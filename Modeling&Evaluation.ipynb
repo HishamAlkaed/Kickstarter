{
 "cells": [
  {
   "cell_type": "code",
   "execution_count": 14,
   "id": "f4d29088",
   "metadata": {},
   "outputs": [],
   "source": [
    "import pandas as pd\n",
    "import seaborn as sns\n",
    "import numpy as np\n",
    "import scipy.sparse as sp\n",
    "\n",
    "import matplotlib.pyplot as plt\n",
    "%matplotlib inline\n",
    "\n",
    "from matplotlib.pylab import rcParams\n",
    "rcParams['figure.figsize'] = 16, 8\n",
    "\n",
    "from scipy.stats import norm\n",
    "from scipy import stats\n",
    "\n",
    "from sklearn.preprocessing import StandardScaler\n",
    "from sklearn.model_selection import train_test_split\n",
    "from sklearn.linear_model import LinearRegression\n",
    "from sklearn import preprocessing\n",
    "from datetime import datetime\n",
    "\n",
    "import category_encoders as ce\n",
    "\n",
    "import warnings\n",
    "warnings.filterwarnings('ignore')\n",
    "\n",
    "import clean\n",
    "\n",
    "from sklearn.pipeline import Pipeline\n",
    "from sklearn.feature_extraction.text import TfidfVectorizer, CountVectorizer\n",
    "from sklearn.naive_bayes import MultinomialNB, GaussianNB, CategoricalNB\n",
    "from sklearn import metrics"
   ]
  },
  {
   "cell_type": "code",
   "execution_count": 3,
   "id": "e3d5db38",
   "metadata": {},
   "outputs": [],
   "source": [
    "# df1 = pd.read_csv('clean_dataset.csv')\n",
    "df = pd.read_csv('clean_dataset_old.csv')"
   ]
  },
  {
   "cell_type": "code",
   "execution_count": 4,
   "id": "bd19dc46",
   "metadata": {},
   "outputs": [],
   "source": [
    "encoder = ce.one_hot.OneHotEncoder(cols=['category', 'country', 'currency', 'subcategory', 'staff_pick'])\n",
    "\n",
    "df = encoder.fit_transform(df)"
   ]
  },
  {
   "cell_type": "code",
   "execution_count": 5,
   "id": "663c4907",
   "metadata": {},
   "outputs": [],
   "source": [
    "from sklearn.preprocessing import RobustScaler\n",
    "\n",
    "scaler = RobustScaler()\n",
    "\n",
    "df_scaled = scaler.fit_transform(df.drop(['blurb', 'name'], axis=1))"
   ]
  },
  {
   "cell_type": "code",
   "execution_count": 6,
   "id": "8e8ff8b9",
   "metadata": {},
   "outputs": [],
   "source": [
    "# x_train, x_test, y_train, y_test = train_test_split(df.drop(['blurb', 'name'], axis=1), df.funded, test_size=0.4)\n",
    "x_train, x_test, y_train, y_test = train_test_split(df_scaled, df.funded, test_size=0.4)\n"
   ]
  },
  {
   "cell_type": "code",
   "execution_count": 7,
   "id": "bfa6e642",
   "metadata": {},
   "outputs": [],
   "source": [
    "text_clf_nb = Pipeline([\n",
    "    ('clf', GaussianNB()),\n",
    "])"
   ]
  },
  {
   "cell_type": "code",
   "execution_count": 8,
   "id": "4731aaa0",
   "metadata": {
    "scrolled": true
   },
   "outputs": [
    {
     "data": {
      "text/plain": [
       "Pipeline(steps=[('clf', GaussianNB())])"
      ]
     },
     "execution_count": 8,
     "metadata": {},
     "output_type": "execute_result"
    }
   ],
   "source": [
    "text_clf_nb.fit(x_train, y_train)"
   ]
  },
  {
   "cell_type": "code",
   "execution_count": 9,
   "id": "cb04c5d2",
   "metadata": {},
   "outputs": [],
   "source": [
    "def plot_roc(model, x, y, name='linear'):\n",
    "    y_text = model.predict_proba(x)\n",
    "\n",
    "    curve_linear = metrics.roc_curve(y, y_text[:, 1])\n",
    "\n",
    "    # Compute AUC from the created ROC\n",
    "    auc_linear = metrics.auc(curve_linear[0], curve_linear[1])\n",
    "\n",
    "    plt.plot(curve_linear[0], curve_linear[1], label=f'{name} (area = %0.2f)' % auc_linear)\n",
    "\n",
    "    plt.xlim([0.0, 1.0])\n",
    "    plt.ylim([0.0, 1.0])\n",
    "    plt.xlabel('False Positive Rate')\n",
    "    plt.ylabel('True Positive Rate')\n",
    "    plt.title('ROC curve');\n",
    "\n",
    "    plt.legend();"
   ]
  },
  {
   "cell_type": "code",
   "execution_count": 10,
   "id": "65e0cf39",
   "metadata": {
    "scrolled": false
   },
   "outputs": [
    {
     "data": {
      "image/png": "[encoded data removed]",
      "text/plain": [
       "<Figure size 1152x576 with 1 Axes>"
      ]
     },
     "metadata": {
      "needs_background": "light"
     },
     "output_type": "display_data"
    }
   ],
   "source": [
    "plot_roc(text_clf_nb, x_test, y_test, 'categorical + numerical bayes')"
   ]
  },
  {
   "cell_type": "code",
   "execution_count": 11,
   "id": "69b409a9",
   "metadata": {
    "scrolled": true
   },
   "outputs": [
    {
     "data": {
      "text/plain": [
       "1.0"
      ]
     },
     "execution_count": 11,
     "metadata": {},
     "output_type": "execute_result"
    }
   ],
   "source": [
    "def to_boolean(values: list):\n",
    "    if values[0] > values[1]:\n",
    "        return False\n",
    "    else:\n",
    "        return True\n",
    "\n",
    "predicted = text_clf_nb.predict_proba(x_test)\n",
    "\n",
    "result = []\n",
    "for x in predicted:\n",
    "    result.append(to_boolean(x))\n",
    "    \n",
    "metrics.accuracy_score(y_test, result)"
   ]
  },
  {
   "cell_type": "code",
   "execution_count": 12,
   "id": "a5687eeb",
   "metadata": {},
   "outputs": [],
   "source": [
    "df = df.dropna(subset=['name'])\n",
    "df = df.drop(df[df.name.str.isnumeric()].index)"
   ]
  },
  {
   "cell_type": "code",
   "execution_count": 15,
   "id": "14d7c35d",
   "metadata": {},
   "outputs": [],
   "source": [
    "\n",
    "name_vectorizer = CountVectorizer()\n",
    "name_vectors = name_vectorizer.fit_transform(df['name'])\n",
    "\n",
    "blurb_vectorizer = CountVectorizer()\n",
    "blurb_vectors = blurb_vectorizer.fit_transform(df['blurb'])\n",
    "\n",
    "# x_features_train is a combined representation containing both the keywords and the text vectors\n",
    "x_features_train = sp.hstack([name_vectors, blurb_vectors], format='csr')\n",
    "\n",
    "# y is decided above\n",
    "x_train_stack, x_test_stack, y_train_stack, y_test_stack = train_test_split(x_features_train, df.funded, test_size=0.2)\n",
    "\n",
    "text_val_stack, text_val_test_stack, target_val_stack, target_val_test_stack = train_test_split(x_test_stack, y_test_stack, test_size=0.50)"
   ]
  },
  {
   "cell_type": "code",
   "execution_count": 16,
   "id": "4985c0d4",
   "metadata": {},
   "outputs": [
    {
     "data": {
      "text/plain": [
       "MultinomialNB()"
      ]
     },
     "execution_count": 16,
     "metadata": {},
     "output_type": "execute_result"
    }
   ],
   "source": [
    "clf_nb_stack = MultinomialNB() \n",
    "clf_nb_stack.fit(x_train_stack, y_train_stack)"
   ]
  },
  {
   "cell_type": "code",
   "execution_count": 17,
   "id": "f0c56568",
   "metadata": {
    "scrolled": false
   },
   "outputs": [
    {
     "data": {
      "image/png": "[encoded data removed]",
      "text/plain": [
       "<Figure size 1152x576 with 1 Axes>"
      ]
     },
     "metadata": {
      "needs_background": "light"
     },
     "output_type": "display_data"
    }
   ],
   "source": [
    "plot_roc(clf_nb_stack, text_val_test_stack, target_val_test_stack, 'bayes stacking')"
   ]
  },
  {
   "cell_type": "code",
   "execution_count": 18,
   "id": "eea4fec5",
   "metadata": {},
   "outputs": [
    {
     "data": {
      "text/plain": [
       "0.6943842860740368"
      ]
     },
     "execution_count": 18,
     "metadata": {},
     "output_type": "execute_result"
    }
   ],
   "source": [
    "predicted = clf_nb_stack.predict_proba(x_test_stack)\n",
    "result = []\n",
    "for x in predicted:\n",
    "    result.append(to_boolean(x))\n",
    "    \n",
    "metrics.accuracy_score(y_test_stack, result)"
   ]
  },
  {
   "cell_type": "code",
   "execution_count": null,
   "id": "595e5366",
   "metadata": {},
   "outputs": [],
   "source": []
  },
  {
   "cell_type": "code",
   "execution_count": null,
   "id": "14aec953",
   "metadata": {},
   "outputs": [],
   "source": []
  },
  {
   "cell_type": "code",
   "execution_count": 53,
   "id": "f1a31c00",
   "metadata": {},
   "outputs": [
    {
     "data": {
      "text/plain": [
       "StackingRegressor(estimators=[('Numerical',\n",
       "                               Pipeline(steps=[('clf', GaussianNB())])),\n",
       "                              ('textual', MultinomialNB())],\n",
       "                  final_estimator=RidgeCV(alphas=array([ 0.1,  1. , 10. ])))"
      ]
     },
     "execution_count": 53,
     "metadata": {},
     "output_type": "execute_result"
    }
   ],
   "source": [
    "from sklearn.ensemble import StackingRegressor\n",
    "from sklearn.linear_model import RidgeCV\n",
    "\n",
    "estimators = [('Numerical', text_clf_nb),\n",
    "              ('textual', clf_nb_stack)]\n",
    "\n",
    "stacking_regressor = StackingRegressor(\n",
    "    estimators=estimators, final_estimator=RidgeCV())\n",
    "stacking_regressor"
   ]
  },
  {
   "cell_type": "code",
   "execution_count": 54,
   "id": "171b499a",
   "metadata": {
    "scrolled": true
   },
   "outputs": [
    {
     "ename": "AttributeError",
     "evalue": "'StackingRegressor' object has no attribute 'final_estimator_'",
     "output_type": "error",
     "traceback": [
      "\u001b[1;31m---------------------------------------------------------------------------\u001b[0m",
      "\u001b[1;31mAttributeError\u001b[0m                            Traceback (most recent call last)",
      "\u001b[1;32m~\\AppData\\Local\\Temp/ipykernel_12040/835675423.py\u001b[0m in \u001b[0;36m<module>\u001b[1;34m\u001b[0m\n\u001b[1;32m----> 1\u001b[1;33m \u001b[0mpredicted\u001b[0m \u001b[1;33m=\u001b[0m \u001b[0mstacking_regressor\u001b[0m\u001b[1;33m.\u001b[0m\u001b[0mpredict\u001b[0m\u001b[1;33m(\u001b[0m\u001b[0mx_test_stack\u001b[0m\u001b[1;33m)\u001b[0m\u001b[1;33m\u001b[0m\u001b[1;33m\u001b[0m\u001b[0m\n\u001b[0m\u001b[0;32m      2\u001b[0m \u001b[1;33m\u001b[0m\u001b[0m\n\u001b[0;32m      3\u001b[0m \u001b[0mpredicted\u001b[0m\u001b[1;33m\u001b[0m\u001b[1;33m\u001b[0m\u001b[0m\n\u001b[0;32m      4\u001b[0m \u001b[0mresult\u001b[0m \u001b[1;33m=\u001b[0m \u001b[1;33m[\u001b[0m\u001b[1;33m]\u001b[0m\u001b[1;33m\u001b[0m\u001b[1;33m\u001b[0m\u001b[0m\n\u001b[0;32m      5\u001b[0m \u001b[1;32mfor\u001b[0m \u001b[0mx\u001b[0m \u001b[1;32min\u001b[0m \u001b[0mpredicted\u001b[0m\u001b[1;33m:\u001b[0m\u001b[1;33m\u001b[0m\u001b[1;33m\u001b[0m\u001b[0m\n",
      "\u001b[1;32m~\\anaconda3\\lib\\site-packages\\sklearn\\utils\\metaestimators.py\u001b[0m in \u001b[0;36m__get__\u001b[1;34m(self, obj, type)\u001b[0m\n\u001b[0;32m    115\u001b[0m                     \u001b[1;32mbreak\u001b[0m\u001b[1;33m\u001b[0m\u001b[1;33m\u001b[0m\u001b[0m\n\u001b[0;32m    116\u001b[0m             \u001b[1;32melse\u001b[0m\u001b[1;33m:\u001b[0m\u001b[1;33m\u001b[0m\u001b[1;33m\u001b[0m\u001b[0m\n\u001b[1;32m--> 117\u001b[1;33m                 \u001b[0mattrgetter\u001b[0m\u001b[1;33m(\u001b[0m\u001b[0mself\u001b[0m\u001b[1;33m.\u001b[0m\u001b[0mdelegate_names\u001b[0m\u001b[1;33m[\u001b[0m\u001b[1;33m-\u001b[0m\u001b[1;36m1\u001b[0m\u001b[1;33m]\u001b[0m\u001b[1;33m)\u001b[0m\u001b[1;33m(\u001b[0m\u001b[0mobj\u001b[0m\u001b[1;33m)\u001b[0m\u001b[1;33m\u001b[0m\u001b[1;33m\u001b[0m\u001b[0m\n\u001b[0m\u001b[0;32m    118\u001b[0m \u001b[1;33m\u001b[0m\u001b[0m\n\u001b[0;32m    119\u001b[0m         \u001b[1;31m# lambda, but not partial, allows help() to work with update_wrapper\u001b[0m\u001b[1;33m\u001b[0m\u001b[1;33m\u001b[0m\u001b[1;33m\u001b[0m\u001b[0m\n",
      "\u001b[1;31mAttributeError\u001b[0m: 'StackingRegressor' object has no attribute 'final_estimator_'"
     ]
    }
   ],
   "source": [
    "predicted = stacking_regressor.predict(x_test_stack)\n",
    "\n",
    "predicted\n",
    "result = []\n",
    "for x in predicted:\n",
    "    result.append(to_boolean(x))\n",
    "    \n",
    "metrics.accuracy_score(y_test_stack, result)"
   ]
  },
  {
   "cell_type": "markdown",
   "id": "7c234c2a",
   "metadata": {},
   "source": [
    "# Evaluation:"
   ]
  },
  {
   "cell_type": "code",
   "execution_count": null,
   "id": "4448c1c0",
   "metadata": {},
   "outputs": [],
   "source": []
  }
 ],
 "metadata": {
  "kernelspec": {
   "display_name": "Python 3 (ipykernel)",
   "language": "python",
   "name": "python3"
  },
  "language_info": {
   "codemirror_mode": {
    "name": "ipython",
    "version": 3
   },
   "file_extension": ".py",
   "mimetype": "text/x-python",
   "name": "python",
   "nbconvert_exporter": "python",
   "pygments_lexer": "ipython3",
   "version": "3.8.3"
  }
 },
 "nbformat": 4,
 "nbformat_minor": 5
}
