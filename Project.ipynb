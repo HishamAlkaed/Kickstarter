{
 "cells": [
  {
   "cell_type": "markdown",
   "metadata": {},
   "source": [
    "# Data Exploration:"
   ]
  },
  {
   "cell_type": "code",
   "execution_count": 1,
   "metadata": {
    "id": "U6ZFLOFaBH7B"
   },
   "outputs": [],
   "source": [
    "import pandas as pd\n",
    "import seaborn as sns\n",
    "import numpy as np\n",
    "\n",
    "import matplotlib.pyplot as plt\n",
    "%matplotlib inline\n",
    "\n",
    "from matplotlib.pylab import rcParams\n",
    "rcParams['figure.figsize'] = 16, 8\n",
    "\n",
    "from scipy.stats import norm\n",
    "from scipy import stats\n",
    "\n",
    "from sklearn.preprocessing import StandardScaler\n",
    "from sklearn.model_selection import train_test_split\n",
    "from sklearn.linear_model import LinearRegression\n",
    "\n",
    "import warnings\n",
    "warnings.filterwarnings('ignore')"
   ]
  },
  {
   "cell_type": "code",
   "execution_count": 2,
   "metadata": {
    "id": "qBvmdwwJBe8e"
   },
   "outputs": [],
   "source": [
    "df = pd.read_csv('KS_train_data.csv')"
   ]
  },
  {
   "cell_type": "code",
   "execution_count": 3,
   "metadata": {
    "colab": {
     "base_uri": "https://localhost:8080/",
     "height": 1000
    },
    "id": "kHgsbQ6QCY85",
    "outputId": "03188ef4-b909-4b07-e564-bf81a7860d2a",
    "scrolled": false
   },
   "outputs": [
    {
     "data": {
      "text/html": [
       "<div>\n",
       "<style scoped>\n",
       "    .dataframe tbody tr th:only-of-type {\n",
       "        vertical-align: middle;\n",
       "    }\n",
       "\n",
       "    .dataframe tbody tr th {\n",
       "        vertical-align: top;\n",
       "    }\n",
       "\n",
       "    .dataframe thead th {\n",
       "        text-align: right;\n",
       "    }\n",
       "</style>\n",
       "<table border=\"1\" class=\"dataframe\">\n",
       "  <thead>\n",
       "    <tr style=\"text-align: right;\">\n",
       "      <th></th>\n",
       "      <th>project_id</th>\n",
       "      <th>backers_count</th>\n",
       "      <th>blurb</th>\n",
       "      <th>category</th>\n",
       "      <th>converted_pledged_amount</th>\n",
       "      <th>country</th>\n",
       "      <th>created_at</th>\n",
       "      <th>currency</th>\n",
       "      <th>deadline</th>\n",
       "      <th>fx_rate</th>\n",
       "      <th>...</th>\n",
       "      <th>launched_at</th>\n",
       "      <th>name</th>\n",
       "      <th>pledged</th>\n",
       "      <th>staff_pick</th>\n",
       "      <th>usd_pledged</th>\n",
       "      <th>location</th>\n",
       "      <th>funded</th>\n",
       "      <th>subcategory</th>\n",
       "      <th>project_url</th>\n",
       "      <th>reward_url</th>\n",
       "    </tr>\n",
       "  </thead>\n",
       "  <tbody>\n",
       "    <tr>\n",
       "      <th>0</th>\n",
       "      <td>KS_000000</td>\n",
       "      <td>80</td>\n",
       "      <td>I will be an artist-in-residence at Elsewhere ...</td>\n",
       "      <td>art</td>\n",
       "      <td>3596</td>\n",
       "      <td>US</td>\n",
       "      <td>1325980505</td>\n",
       "      <td>USD</td>\n",
       "      <td>1334866560</td>\n",
       "      <td>1.000000</td>\n",
       "      <td>...</td>\n",
       "      <td>1332969260</td>\n",
       "      <td>Elsewhere Studios artist-in-residency program!</td>\n",
       "      <td>3596.00</td>\n",
       "      <td>False</td>\n",
       "      <td>3596.000000</td>\n",
       "      <td>Paonia, CO</td>\n",
       "      <td>True</td>\n",
       "      <td>mixed media</td>\n",
       "      <td>https://www.kickstarter.com/projects/hilaryeme...</td>\n",
       "      <td>https://www.kickstarter.com/projects/hilaryeme...</td>\n",
       "    </tr>\n",
       "    <tr>\n",
       "      <th>1</th>\n",
       "      <td>KS_000001</td>\n",
       "      <td>82</td>\n",
       "      <td>1000 Artists is a public art-making installati...</td>\n",
       "      <td>art</td>\n",
       "      <td>4586</td>\n",
       "      <td>US</td>\n",
       "      <td>1330926084</td>\n",
       "      <td>USD</td>\n",
       "      <td>1336440145</td>\n",
       "      <td>1.000000</td>\n",
       "      <td>...</td>\n",
       "      <td>1332984145</td>\n",
       "      <td>1000 Artists: Presidential Inauguration 2013</td>\n",
       "      <td>4586.00</td>\n",
       "      <td>False</td>\n",
       "      <td>4586.000000</td>\n",
       "      <td>Washington, DC</td>\n",
       "      <td>True</td>\n",
       "      <td>public art</td>\n",
       "      <td>https://www.kickstarter.com/projects/17146650/...</td>\n",
       "      <td>https://www.kickstarter.com/projects/17146650/...</td>\n",
       "    </tr>\n",
       "    <tr>\n",
       "      <th>2</th>\n",
       "      <td>KS_000002</td>\n",
       "      <td>21</td>\n",
       "      <td>The Sequel to ‘My Favorite Machine”, \"MyPhoneH...</td>\n",
       "      <td>art</td>\n",
       "      <td>5217</td>\n",
       "      <td>US</td>\n",
       "      <td>1332382894</td>\n",
       "      <td>USD</td>\n",
       "      <td>1338175739</td>\n",
       "      <td>1.000000</td>\n",
       "      <td>...</td>\n",
       "      <td>1332991739</td>\n",
       "      <td>MyPhoneHenge</td>\n",
       "      <td>5217.00</td>\n",
       "      <td>False</td>\n",
       "      <td>5217.000000</td>\n",
       "      <td>Frisco, TX</td>\n",
       "      <td>True</td>\n",
       "      <td>sculpture</td>\n",
       "      <td>https://www.kickstarter.com/projects/belveal/m...</td>\n",
       "      <td>https://www.kickstarter.com/projects/belveal/m...</td>\n",
       "    </tr>\n",
       "    <tr>\n",
       "      <th>3</th>\n",
       "      <td>KS_000003</td>\n",
       "      <td>37</td>\n",
       "      <td>A film exploring the role and value of art edu...</td>\n",
       "      <td>art</td>\n",
       "      <td>7160</td>\n",
       "      <td>GB</td>\n",
       "      <td>1332342451</td>\n",
       "      <td>USD</td>\n",
       "      <td>1334806096</td>\n",
       "      <td>1.000000</td>\n",
       "      <td>...</td>\n",
       "      <td>1332991696</td>\n",
       "      <td>Walk-Through</td>\n",
       "      <td>7160.00</td>\n",
       "      <td>False</td>\n",
       "      <td>7160.000000</td>\n",
       "      <td>Glasgow, UK</td>\n",
       "      <td>True</td>\n",
       "      <td>art</td>\n",
       "      <td>https://www.kickstarter.com/projects/107813091...</td>\n",
       "      <td>https://www.kickstarter.com/projects/107813091...</td>\n",
       "    </tr>\n",
       "    <tr>\n",
       "      <th>4</th>\n",
       "      <td>KS_000004</td>\n",
       "      <td>153</td>\n",
       "      <td>We need to build a kitchen for Habitable Space...</td>\n",
       "      <td>art</td>\n",
       "      <td>15445</td>\n",
       "      <td>US</td>\n",
       "      <td>1328562617</td>\n",
       "      <td>USD</td>\n",
       "      <td>1335584240</td>\n",
       "      <td>1.000000</td>\n",
       "      <td>...</td>\n",
       "      <td>1332992240</td>\n",
       "      <td>A kitchen for Habitable Spaces</td>\n",
       "      <td>15445.00</td>\n",
       "      <td>False</td>\n",
       "      <td>15445.000000</td>\n",
       "      <td>Kingsbury, TX</td>\n",
       "      <td>True</td>\n",
       "      <td>public art</td>\n",
       "      <td>https://www.kickstarter.com/projects/104409276...</td>\n",
       "      <td>https://www.kickstarter.com/projects/104409276...</td>\n",
       "    </tr>\n",
       "    <tr>\n",
       "      <th>...</th>\n",
       "      <td>...</td>\n",
       "      <td>...</td>\n",
       "      <td>...</td>\n",
       "      <td>...</td>\n",
       "      <td>...</td>\n",
       "      <td>...</td>\n",
       "      <td>...</td>\n",
       "      <td>...</td>\n",
       "      <td>...</td>\n",
       "      <td>...</td>\n",
       "      <td>...</td>\n",
       "      <td>...</td>\n",
       "      <td>...</td>\n",
       "      <td>...</td>\n",
       "      <td>...</td>\n",
       "      <td>...</td>\n",
       "      <td>...</td>\n",
       "      <td>...</td>\n",
       "      <td>...</td>\n",
       "      <td>...</td>\n",
       "      <td>...</td>\n",
       "    </tr>\n",
       "    <tr>\n",
       "      <th>99995</th>\n",
       "      <td>KS_099995</td>\n",
       "      <td>104</td>\n",
       "      <td>Make the workshop/ small stage space at Jimmy'...</td>\n",
       "      <td>theater</td>\n",
       "      <td>7595</td>\n",
       "      <td>US</td>\n",
       "      <td>1348677893</td>\n",
       "      <td>USD</td>\n",
       "      <td>1356552252</td>\n",
       "      <td>1.000000</td>\n",
       "      <td>...</td>\n",
       "      <td>1353960252</td>\n",
       "      <td>Help Fund the \"Back Room\" Arts Space at Jimmy'...</td>\n",
       "      <td>7595.43</td>\n",
       "      <td>False</td>\n",
       "      <td>7595.430000</td>\n",
       "      <td>New York, NY</td>\n",
       "      <td>True</td>\n",
       "      <td>spaces</td>\n",
       "      <td>https://www.kickstarter.com/projects/jimmycarb...</td>\n",
       "      <td>https://www.kickstarter.com/projects/jimmycarb...</td>\n",
       "    </tr>\n",
       "    <tr>\n",
       "      <th>99996</th>\n",
       "      <td>KS_099996</td>\n",
       "      <td>307</td>\n",
       "      <td>Help create a permanent home for live comedy s...</td>\n",
       "      <td>theater</td>\n",
       "      <td>27196</td>\n",
       "      <td>US</td>\n",
       "      <td>1364939099</td>\n",
       "      <td>USD</td>\n",
       "      <td>1367674009</td>\n",
       "      <td>1.000000</td>\n",
       "      <td>...</td>\n",
       "      <td>1365082009</td>\n",
       "      <td>The Coalition Theater</td>\n",
       "      <td>27196.71</td>\n",
       "      <td>False</td>\n",
       "      <td>27196.710000</td>\n",
       "      <td>Richmond, VA</td>\n",
       "      <td>True</td>\n",
       "      <td>spaces</td>\n",
       "      <td>https://www.kickstarter.com/projects/rvacomedy...</td>\n",
       "      <td>https://www.kickstarter.com/projects/rvacomedy...</td>\n",
       "    </tr>\n",
       "    <tr>\n",
       "      <th>99997</th>\n",
       "      <td>KS_099997</td>\n",
       "      <td>143</td>\n",
       "      <td>Voix de Ville is a pop-up imaginarium of neo-v...</td>\n",
       "      <td>theater</td>\n",
       "      <td>7226</td>\n",
       "      <td>US</td>\n",
       "      <td>1366078694</td>\n",
       "      <td>USD</td>\n",
       "      <td>1373738400</td>\n",
       "      <td>1.000000</td>\n",
       "      <td>...</td>\n",
       "      <td>1370568560</td>\n",
       "      <td>The Voix De Ville! : A Pop-up Theater and Cabaret</td>\n",
       "      <td>7226.00</td>\n",
       "      <td>True</td>\n",
       "      <td>7226.000000</td>\n",
       "      <td>Cleveland, OH</td>\n",
       "      <td>True</td>\n",
       "      <td>spaces</td>\n",
       "      <td>https://www.kickstarter.com/projects/160171209...</td>\n",
       "      <td>https://www.kickstarter.com/projects/160171209...</td>\n",
       "    </tr>\n",
       "    <tr>\n",
       "      <th>99998</th>\n",
       "      <td>KS_099998</td>\n",
       "      <td>329</td>\n",
       "      <td>Help Synetic Theater create a new Studio to pr...</td>\n",
       "      <td>theater</td>\n",
       "      <td>31683</td>\n",
       "      <td>US</td>\n",
       "      <td>1372177000</td>\n",
       "      <td>USD</td>\n",
       "      <td>1376654340</td>\n",
       "      <td>1.000000</td>\n",
       "      <td>...</td>\n",
       "      <td>1373568644</td>\n",
       "      <td>Save the Studio!</td>\n",
       "      <td>31683.00</td>\n",
       "      <td>False</td>\n",
       "      <td>31683.000000</td>\n",
       "      <td>Arlington, VA</td>\n",
       "      <td>True</td>\n",
       "      <td>spaces</td>\n",
       "      <td>https://www.kickstarter.com/projects/967829854...</td>\n",
       "      <td>https://www.kickstarter.com/projects/967829854...</td>\n",
       "    </tr>\n",
       "    <tr>\n",
       "      <th>99999</th>\n",
       "      <td>KS_099999</td>\n",
       "      <td>145</td>\n",
       "      <td>Be part of building Cardiff's first pub theatr...</td>\n",
       "      <td>theater</td>\n",
       "      <td>12639</td>\n",
       "      <td>GB</td>\n",
       "      <td>1398597170</td>\n",
       "      <td>GBP</td>\n",
       "      <td>1401465600</td>\n",
       "      <td>1.389543</td>\n",
       "      <td>...</td>\n",
       "      <td>1399032813</td>\n",
       "      <td>The Other Room – Cardiff’s First Pub Theatre</td>\n",
       "      <td>7555.00</td>\n",
       "      <td>False</td>\n",
       "      <td>12753.401034</td>\n",
       "      <td>Cardiff, UK</td>\n",
       "      <td>True</td>\n",
       "      <td>spaces</td>\n",
       "      <td>https://www.kickstarter.com/projects/159603433...</td>\n",
       "      <td>https://www.kickstarter.com/projects/159603433...</td>\n",
       "    </tr>\n",
       "  </tbody>\n",
       "</table>\n",
       "<p>100000 rows × 21 columns</p>\n",
       "</div>"
      ],
      "text/plain": [
       "      project_id  backers_count  \\\n",
       "0      KS_000000             80   \n",
       "1      KS_000001             82   \n",
       "2      KS_000002             21   \n",
       "3      KS_000003             37   \n",
       "4      KS_000004            153   \n",
       "...          ...            ...   \n",
       "99995  KS_099995            104   \n",
       "99996  KS_099996            307   \n",
       "99997  KS_099997            143   \n",
       "99998  KS_099998            329   \n",
       "99999  KS_099999            145   \n",
       "\n",
       "                                                   blurb category  \\\n",
       "0      I will be an artist-in-residence at Elsewhere ...      art   \n",
       "1      1000 Artists is a public art-making installati...      art   \n",
       "2      The Sequel to ‘My Favorite Machine”, \"MyPhoneH...      art   \n",
       "3      A film exploring the role and value of art edu...      art   \n",
       "4      We need to build a kitchen for Habitable Space...      art   \n",
       "...                                                  ...      ...   \n",
       "99995  Make the workshop/ small stage space at Jimmy'...  theater   \n",
       "99996  Help create a permanent home for live comedy s...  theater   \n",
       "99997  Voix de Ville is a pop-up imaginarium of neo-v...  theater   \n",
       "99998  Help Synetic Theater create a new Studio to pr...  theater   \n",
       "99999  Be part of building Cardiff's first pub theatr...  theater   \n",
       "\n",
       "       converted_pledged_amount country  created_at currency    deadline  \\\n",
       "0                          3596      US  1325980505      USD  1334866560   \n",
       "1                          4586      US  1330926084      USD  1336440145   \n",
       "2                          5217      US  1332382894      USD  1338175739   \n",
       "3                          7160      GB  1332342451      USD  1334806096   \n",
       "4                         15445      US  1328562617      USD  1335584240   \n",
       "...                         ...     ...         ...      ...         ...   \n",
       "99995                      7595      US  1348677893      USD  1356552252   \n",
       "99996                     27196      US  1364939099      USD  1367674009   \n",
       "99997                      7226      US  1366078694      USD  1373738400   \n",
       "99998                     31683      US  1372177000      USD  1376654340   \n",
       "99999                     12639      GB  1398597170      GBP  1401465600   \n",
       "\n",
       "        fx_rate  ...  launched_at  \\\n",
       "0      1.000000  ...   1332969260   \n",
       "1      1.000000  ...   1332984145   \n",
       "2      1.000000  ...   1332991739   \n",
       "3      1.000000  ...   1332991696   \n",
       "4      1.000000  ...   1332992240   \n",
       "...         ...  ...          ...   \n",
       "99995  1.000000  ...   1353960252   \n",
       "99996  1.000000  ...   1365082009   \n",
       "99997  1.000000  ...   1370568560   \n",
       "99998  1.000000  ...   1373568644   \n",
       "99999  1.389543  ...   1399032813   \n",
       "\n",
       "                                                    name   pledged  \\\n",
       "0         Elsewhere Studios artist-in-residency program!   3596.00   \n",
       "1           1000 Artists: Presidential Inauguration 2013   4586.00   \n",
       "2                                           MyPhoneHenge   5217.00   \n",
       "3                                           Walk-Through   7160.00   \n",
       "4                         A kitchen for Habitable Spaces  15445.00   \n",
       "...                                                  ...       ...   \n",
       "99995  Help Fund the \"Back Room\" Arts Space at Jimmy'...   7595.43   \n",
       "99996                              The Coalition Theater  27196.71   \n",
       "99997  The Voix De Ville! : A Pop-up Theater and Cabaret   7226.00   \n",
       "99998                                   Save the Studio!  31683.00   \n",
       "99999       The Other Room – Cardiff’s First Pub Theatre   7555.00   \n",
       "\n",
       "       staff_pick   usd_pledged        location funded  subcategory  \\\n",
       "0           False   3596.000000      Paonia, CO   True  mixed media   \n",
       "1           False   4586.000000  Washington, DC   True   public art   \n",
       "2           False   5217.000000      Frisco, TX   True    sculpture   \n",
       "3           False   7160.000000     Glasgow, UK   True          art   \n",
       "4           False  15445.000000   Kingsbury, TX   True   public art   \n",
       "...           ...           ...             ...    ...          ...   \n",
       "99995       False   7595.430000    New York, NY   True       spaces   \n",
       "99996       False  27196.710000    Richmond, VA   True       spaces   \n",
       "99997        True   7226.000000   Cleveland, OH   True       spaces   \n",
       "99998       False  31683.000000   Arlington, VA   True       spaces   \n",
       "99999       False  12753.401034     Cardiff, UK   True       spaces   \n",
       "\n",
       "                                             project_url  \\\n",
       "0      https://www.kickstarter.com/projects/hilaryeme...   \n",
       "1      https://www.kickstarter.com/projects/17146650/...   \n",
       "2      https://www.kickstarter.com/projects/belveal/m...   \n",
       "3      https://www.kickstarter.com/projects/107813091...   \n",
       "4      https://www.kickstarter.com/projects/104409276...   \n",
       "...                                                  ...   \n",
       "99995  https://www.kickstarter.com/projects/jimmycarb...   \n",
       "99996  https://www.kickstarter.com/projects/rvacomedy...   \n",
       "99997  https://www.kickstarter.com/projects/160171209...   \n",
       "99998  https://www.kickstarter.com/projects/967829854...   \n",
       "99999  https://www.kickstarter.com/projects/159603433...   \n",
       "\n",
       "                                              reward_url  \n",
       "0      https://www.kickstarter.com/projects/hilaryeme...  \n",
       "1      https://www.kickstarter.com/projects/17146650/...  \n",
       "2      https://www.kickstarter.com/projects/belveal/m...  \n",
       "3      https://www.kickstarter.com/projects/107813091...  \n",
       "4      https://www.kickstarter.com/projects/104409276...  \n",
       "...                                                  ...  \n",
       "99995  https://www.kickstarter.com/projects/jimmycarb...  \n",
       "99996  https://www.kickstarter.com/projects/rvacomedy...  \n",
       "99997  https://www.kickstarter.com/projects/160171209...  \n",
       "99998  https://www.kickstarter.com/projects/967829854...  \n",
       "99999  https://www.kickstarter.com/projects/159603433...  \n",
       "\n",
       "[100000 rows x 21 columns]"
      ]
     },
     "execution_count": 3,
     "metadata": {},
     "output_type": "execute_result"
    }
   ],
   "source": [
    "df"
   ]
  },
  {
   "cell_type": "code",
   "execution_count": 4,
   "metadata": {},
   "outputs": [
    {
     "data": {
      "text/html": [
       "<div>\n",
       "<style scoped>\n",
       "    .dataframe tbody tr th:only-of-type {\n",
       "        vertical-align: middle;\n",
       "    }\n",
       "\n",
       "    .dataframe tbody tr th {\n",
       "        vertical-align: top;\n",
       "    }\n",
       "\n",
       "    .dataframe thead th {\n",
       "        text-align: right;\n",
       "    }\n",
       "</style>\n",
       "<table border=\"1\" class=\"dataframe\">\n",
       "  <thead>\n",
       "    <tr style=\"text-align: right;\">\n",
       "      <th></th>\n",
       "      <th>backers_count</th>\n",
       "      <th>converted_pledged_amount</th>\n",
       "      <th>created_at</th>\n",
       "      <th>deadline</th>\n",
       "      <th>fx_rate</th>\n",
       "      <th>goal</th>\n",
       "      <th>launched_at</th>\n",
       "      <th>pledged</th>\n",
       "      <th>usd_pledged</th>\n",
       "    </tr>\n",
       "  </thead>\n",
       "  <tbody>\n",
       "    <tr>\n",
       "      <th>count</th>\n",
       "      <td>100000.000000</td>\n",
       "      <td>1.000000e+05</td>\n",
       "      <td>1.000000e+05</td>\n",
       "      <td>1.000000e+05</td>\n",
       "      <td>100000.000000</td>\n",
       "      <td>1.000000e+05</td>\n",
       "      <td>1.000000e+05</td>\n",
       "      <td>1.000000e+05</td>\n",
       "      <td>1.000000e+05</td>\n",
       "    </tr>\n",
       "    <tr>\n",
       "      <th>mean</th>\n",
       "      <td>151.089430</td>\n",
       "      <td>1.241108e+04</td>\n",
       "      <td>1.400524e+09</td>\n",
       "      <td>1.406896e+09</td>\n",
       "      <td>1.017654</td>\n",
       "      <td>4.447512e+04</td>\n",
       "      <td>1.403972e+09</td>\n",
       "      <td>1.312485e+04</td>\n",
       "      <td>1.241284e+04</td>\n",
       "    </tr>\n",
       "    <tr>\n",
       "      <th>std</th>\n",
       "      <td>1163.024964</td>\n",
       "      <td>1.005545e+05</td>\n",
       "      <td>6.334581e+07</td>\n",
       "      <td>6.340574e+07</td>\n",
       "      <td>0.169773</td>\n",
       "      <td>1.256033e+06</td>\n",
       "      <td>6.360489e+07</td>\n",
       "      <td>1.080345e+05</td>\n",
       "      <td>1.005368e+05</td>\n",
       "    </tr>\n",
       "    <tr>\n",
       "      <th>min</th>\n",
       "      <td>0.000000</td>\n",
       "      <td>0.000000e+00</td>\n",
       "      <td>1.240366e+09</td>\n",
       "      <td>1.243556e+09</td>\n",
       "      <td>0.009337</td>\n",
       "      <td>1.000000e-02</td>\n",
       "      <td>1.240674e+09</td>\n",
       "      <td>0.000000e+00</td>\n",
       "      <td>0.000000e+00</td>\n",
       "    </tr>\n",
       "    <tr>\n",
       "      <th>25%</th>\n",
       "      <td>4.000000</td>\n",
       "      <td>1.250000e+02</td>\n",
       "      <td>1.349203e+09</td>\n",
       "      <td>1.357171e+09</td>\n",
       "      <td>1.000000</td>\n",
       "      <td>1.500000e+03</td>\n",
       "      <td>1.354313e+09</td>\n",
       "      <td>1.250000e+02</td>\n",
       "      <td>1.250000e+02</td>\n",
       "    </tr>\n",
       "    <tr>\n",
       "      <th>50%</th>\n",
       "      <td>28.000000</td>\n",
       "      <td>1.650000e+03</td>\n",
       "      <td>1.408426e+09</td>\n",
       "      <td>1.415244e+09</td>\n",
       "      <td>1.000000</td>\n",
       "      <td>5.000000e+03</td>\n",
       "      <td>1.412373e+09</td>\n",
       "      <td>1.635500e+03</td>\n",
       "      <td>1.651000e+03</td>\n",
       "    </tr>\n",
       "    <tr>\n",
       "      <th>75%</th>\n",
       "      <td>86.000000</td>\n",
       "      <td>6.271250e+03</td>\n",
       "      <td>1.447206e+09</td>\n",
       "      <td>1.454243e+09</td>\n",
       "      <td>1.000000</td>\n",
       "      <td>1.200000e+04</td>\n",
       "      <td>1.451252e+09</td>\n",
       "      <td>6.310000e+03</td>\n",
       "      <td>6.275042e+03</td>\n",
       "    </tr>\n",
       "    <tr>\n",
       "      <th>max</th>\n",
       "      <td>105857.000000</td>\n",
       "      <td>1.026684e+07</td>\n",
       "      <td>1.517539e+09</td>\n",
       "      <td>1.518702e+09</td>\n",
       "      <td>1.401112</td>\n",
       "      <td>1.000000e+08</td>\n",
       "      <td>1.518037e+09</td>\n",
       "      <td>1.026685e+07</td>\n",
       "      <td>1.026685e+07</td>\n",
       "    </tr>\n",
       "  </tbody>\n",
       "</table>\n",
       "</div>"
      ],
      "text/plain": [
       "       backers_count  converted_pledged_amount    created_at      deadline  \\\n",
       "count  100000.000000              1.000000e+05  1.000000e+05  1.000000e+05   \n",
       "mean      151.089430              1.241108e+04  1.400524e+09  1.406896e+09   \n",
       "std      1163.024964              1.005545e+05  6.334581e+07  6.340574e+07   \n",
       "min         0.000000              0.000000e+00  1.240366e+09  1.243556e+09   \n",
       "25%         4.000000              1.250000e+02  1.349203e+09  1.357171e+09   \n",
       "50%        28.000000              1.650000e+03  1.408426e+09  1.415244e+09   \n",
       "75%        86.000000              6.271250e+03  1.447206e+09  1.454243e+09   \n",
       "max    105857.000000              1.026684e+07  1.517539e+09  1.518702e+09   \n",
       "\n",
       "             fx_rate          goal   launched_at       pledged   usd_pledged  \n",
       "count  100000.000000  1.000000e+05  1.000000e+05  1.000000e+05  1.000000e+05  \n",
       "mean        1.017654  4.447512e+04  1.403972e+09  1.312485e+04  1.241284e+04  \n",
       "std         0.169773  1.256033e+06  6.360489e+07  1.080345e+05  1.005368e+05  \n",
       "min         0.009337  1.000000e-02  1.240674e+09  0.000000e+00  0.000000e+00  \n",
       "25%         1.000000  1.500000e+03  1.354313e+09  1.250000e+02  1.250000e+02  \n",
       "50%         1.000000  5.000000e+03  1.412373e+09  1.635500e+03  1.651000e+03  \n",
       "75%         1.000000  1.200000e+04  1.451252e+09  6.310000e+03  6.275042e+03  \n",
       "max         1.401112  1.000000e+08  1.518037e+09  1.026685e+07  1.026685e+07  "
      ]
     },
     "execution_count": 4,
     "metadata": {},
     "output_type": "execute_result"
    }
   ],
   "source": [
    "df.describe()"
   ]
  },
  {
   "cell_type": "code",
   "execution_count": 5,
   "metadata": {
    "colab": {
     "base_uri": "https://localhost:8080/",
     "height": 1000
    },
    "id": "C1LmFyX7CgoV",
    "outputId": "cd224331-27c8-4908-8451-7cad45f5edee",
    "scrolled": false
   },
   "outputs": [
    {
     "data": {
      "text/plain": [
       "<AxesSubplot:>"
      ]
     },
     "execution_count": 5,
     "metadata": {},
     "output_type": "execute_result"
    },
    {
     "data": {
      "image/png": "[encoded data removed]",
      "text/plain": [
       "<Figure size 2160x1440 with 2 Axes>"
      ]
     },
     "metadata": {
      "needs_background": "light"
     },
     "output_type": "display_data"
    }
   ],
   "source": [
    "corrmat = df.corr()\n",
    "fig, ax = plt.subplots(figsize=(30,20))         # Sample figsize in inches\n",
    "sns.set(font_scale=2)\n",
    "sns.heatmap(corrmat, annot=True, linewidths=.5, ax=ax, fmt = \".2f\", annot_kws={\"size\":18})"
   ]
  },
  {
   "cell_type": "markdown",
   "metadata": {},
   "source": [
    "##### From the heat map, not much could be said about the data, except that the number of backers (backer_count) correlates witht the pledged money. Other than that, is that there is a small correlation (o.25) between staff_pick and funded. There is also some correlation with the times that we will not go into as those are most probably not very informative. However, we know that the heat map does not show us any categorical data. Hence, we plot some could-be interesting features."
   ]
  },
  {
   "cell_type": "code",
   "execution_count": 6,
   "metadata": {
    "scrolled": false
   },
   "outputs": [
    {
     "data": {
      "text/plain": [
       "<seaborn.axisgrid.FacetGrid at 0x22f8d8a63a0>"
      ]
     },
     "execution_count": 6,
     "metadata": {},
     "output_type": "execute_result"
    },
    {
     "data": {
      "image/png": "[encoded data removed]",
      "text/plain": [
       "<Figure size 360x360 with 1 Axes>"
      ]
     },
     "metadata": {},
     "output_type": "display_data"
    }
   ],
   "source": [
    "# distribution of funded campaigns \n",
    "sns.displot(df.funded.transform(int))\n",
    "# almost 59% were funded project and 39% not"
   ]
  },
  {
   "cell_type": "markdown",
   "metadata": {},
   "source": [
    "Here we plot the intial goal and wether it has been funded or not"
   ]
  },
  {
   "cell_type": "code",
   "execution_count": 7,
   "metadata": {},
   "outputs": [
    {
     "data": {
      "text/plain": [
       "<AxesSubplot:xlabel='funded', ylabel='goal'>"
      ]
     },
     "execution_count": 7,
     "metadata": {},
     "output_type": "execute_result"
    },
    {
     "data": {
      "image/png": "[encoded data removed]",
      "text/plain": [
       "<Figure size 1152x576 with 1 Axes>"
      ]
     },
     "metadata": {},
     "output_type": "display_data"
    }
   ],
   "source": [
    "sns.scatterplot(df.funded.transform(int), df.goal)"
   ]
  },
  {
   "cell_type": "markdown",
   "metadata": {},
   "source": [
    "Here we can already see that all of the funded campaigns have approximatly the same range (goal amount). As for the not funded they are more distributed, even some outliers could be noticed. \n",
    "## hence goal is an important feature"
   ]
  },
  {
   "cell_type": "code",
   "execution_count": null,
   "metadata": {},
   "outputs": [],
   "source": []
  },
  {
   "cell_type": "markdown",
   "metadata": {},
   "source": [
    "Next we plot funded against the category and sub category, but first we need to one-hot encode those categorical data."
   ]
  },
  {
   "cell_type": "code",
   "execution_count": 8,
   "metadata": {},
   "outputs": [],
   "source": [
    "from sklearn import preprocessing\n",
    "enc = preprocessing.OneHotEncoder()"
   ]
  },
  {
   "cell_type": "code",
   "execution_count": 9,
   "metadata": {
    "scrolled": true
   },
   "outputs": [
    {
     "name": "stdout",
     "output_type": "stream",
     "text": [
      "(100000, 15)\n"
     ]
    },
    {
     "data": {
      "text/plain": [
       "array(['x0_art', 'x0_comics', 'x0_crafts', 'x0_dance', 'x0_design',\n",
       "       'x0_fashion', 'x0_film & video', 'x0_food', 'x0_games',\n",
       "       'x0_journalism', 'x0_music', 'x0_photography', 'x0_publishing',\n",
       "       'x0_technology', 'x0_theater'], dtype=object)"
      ]
     },
     "execution_count": 9,
     "metadata": {},
     "output_type": "execute_result"
    }
   ],
   "source": [
    "# first we do categories\n",
    "enc.fit(np.asarray(df.category).reshape(-1, 1))\n",
    "encoded_cat = enc.transform(np.asarray(df.category).reshape(-1,1))\n",
    "print(encoded_cat.shape)\n",
    "enc.get_feature_names()"
   ]
  },
  {
   "cell_type": "markdown",
   "metadata": {},
   "source": [
    "# TODO"
   ]
  },
  {
   "cell_type": "code",
   "execution_count": 10,
   "metadata": {},
   "outputs": [],
   "source": [
    "# here we plot it against funded\n",
    "\n",
    "\n",
    "\n",
    "\n",
    "\n",
    "\n",
    "\n",
    "\n",
    "\n"
   ]
  },
  {
   "cell_type": "code",
   "execution_count": 11,
   "metadata": {},
   "outputs": [
    {
     "name": "stdout",
     "output_type": "stream",
     "text": [
      "(100000, 158)\n"
     ]
    },
    {
     "data": {
      "text/plain": [
       "array(['x0_3d printing', 'x0_academic', 'x0_accessories', 'x0_action',\n",
       "       'x0_animals', 'x0_animation', 'x0_anthologies', 'x0_apparel',\n",
       "       'x0_apps', 'x0_architecture', 'x0_art', 'x0_art books', 'x0_audio',\n",
       "       'x0_bacon', 'x0_blues', 'x0_calendars', 'x0_camera equipment',\n",
       "       'x0_candles', 'x0_ceramics', \"x0_children's books\",\n",
       "       'x0_childrenswear', 'x0_chiptune', 'x0_civic design',\n",
       "       'x0_classical music', 'x0_comedy', 'x0_comic books', 'x0_comics',\n",
       "       'x0_community gardens', 'x0_conceptual art', 'x0_cookbooks',\n",
       "       'x0_country & folk', 'x0_couture', 'x0_crafts', 'x0_crochet',\n",
       "       'x0_dance', 'x0_design', 'x0_digital art', 'x0_diy',\n",
       "       'x0_diy electronics', 'x0_documentary', 'x0_drama', 'x0_drinks',\n",
       "       'x0_electronic music', 'x0_embroidery', 'x0_events',\n",
       "       'x0_experimental', 'x0_fabrication tools', 'x0_faith', 'x0_family',\n",
       "       'x0_fantasy', \"x0_farmer's markets\", 'x0_farms', 'x0_festivals',\n",
       "       'x0_fiction', 'x0_film & video', 'x0_fine art', 'x0_flight',\n",
       "       'x0_food', 'x0_food trucks', 'x0_footwear', 'x0_gadgets',\n",
       "       'x0_games', 'x0_gaming hardware', 'x0_glass', 'x0_graphic design',\n",
       "       'x0_graphic novels', 'x0_hardware', 'x0_hip-hop', 'x0_horror',\n",
       "       'x0_illustration', 'x0_immersive', 'x0_indie rock',\n",
       "       'x0_installations', 'x0_interactive design', 'x0_jazz',\n",
       "       'x0_jewelry', 'x0_journalism', 'x0_kids', 'x0_knitting',\n",
       "       'x0_latin', 'x0_letterpress', 'x0_literary journals',\n",
       "       'x0_literary spaces', 'x0_live games', 'x0_makerspaces',\n",
       "       'x0_metal', 'x0_mixed media', 'x0_mobile games',\n",
       "       'x0_movie theaters', 'x0_music', 'x0_music videos', 'x0_musical',\n",
       "       'x0_narrative film', 'x0_nature', 'x0_nonfiction', 'x0_painting',\n",
       "       'x0_people', 'x0_performance art', 'x0_performances',\n",
       "       'x0_periodicals', 'x0_pet fashion', 'x0_photo', 'x0_photobooks',\n",
       "       'x0_photography', 'x0_places', 'x0_playing cards', 'x0_plays',\n",
       "       'x0_poetry', 'x0_pop', 'x0_pottery', 'x0_print', 'x0_printing',\n",
       "       'x0_product design', 'x0_public art', 'x0_publishing', 'x0_punk',\n",
       "       'x0_puzzles', 'x0_quilts', 'x0_r&b', 'x0_radio & podcasts',\n",
       "       'x0_ready-to-wear', 'x0_residencies', 'x0_restaurants',\n",
       "       'x0_robots', 'x0_rock', 'x0_romance', 'x0_science fiction',\n",
       "       'x0_sculpture', 'x0_shorts', 'x0_small batch', 'x0_software',\n",
       "       'x0_sound', 'x0_space exploration', 'x0_spaces', 'x0_stationery',\n",
       "       'x0_tabletop games', 'x0_taxidermy', 'x0_technology',\n",
       "       'x0_television', 'x0_textiles', 'x0_theater', 'x0_thrillers',\n",
       "       'x0_translations', 'x0_typography', 'x0_vegan', 'x0_video',\n",
       "       'x0_video art', 'x0_video games', 'x0_wearables', 'x0_weaving',\n",
       "       'x0_web', 'x0_webcomics', 'x0_webseries', 'x0_woodworking',\n",
       "       'x0_workshops', 'x0_world music', 'x0_young adult', 'x0_zines'],\n",
       "      dtype=object)"
      ]
     },
     "execution_count": 11,
     "metadata": {},
     "output_type": "execute_result"
    }
   ],
   "source": [
    "# second we do sub-categories\n",
    "enc.fit(np.asarray(df.subcategory).reshape(-1, 1))\n",
    "encoded_subcat = enc.transform(np.asarray(df.subcategory).reshape(-1,1))\n",
    "print(encoded_subcat.shape)\n",
    "enc.get_feature_names()"
   ]
  },
  {
   "cell_type": "markdown",
   "metadata": {},
   "source": [
    "# TODO"
   ]
  },
  {
   "cell_type": "code",
   "execution_count": 12,
   "metadata": {},
   "outputs": [],
   "source": [
    "# and we plot it against funded\n",
    "\n",
    "\n",
    "\n",
    "\n"
   ]
  },
  {
   "cell_type": "code",
   "execution_count": 13,
   "metadata": {
    "scrolled": false
   },
   "outputs": [
    {
     "name": "stdout",
     "output_type": "stream",
     "text": [
      "(100000, 175)\n"
     ]
    },
    {
     "data": {
      "text/plain": [
       "array(['x0_?', 'x0_AE', 'x0_AF', 'x0_AG', 'x0_AM', 'x0_AQ', 'x0_AR',\n",
       "       'x0_AT', 'x0_AU', 'x0_AX', 'x0_BA', 'x0_BB', 'x0_BD', 'x0_BE',\n",
       "       'x0_BF', 'x0_BG', 'x0_BJ', 'x0_BO', 'x0_BR', 'x0_BS', 'x0_BT',\n",
       "       'x0_BY', 'x0_BZ', 'x0_CA', 'x0_CD', 'x0_CF', 'x0_CG', 'x0_CH',\n",
       "       'x0_CI', 'x0_CK', 'x0_CL', 'x0_CM', 'x0_CN', 'x0_CO', 'x0_CR',\n",
       "       'x0_CU', 'x0_CW', 'x0_CY', 'x0_CZ', 'x0_DE', 'x0_DJ', 'x0_DK',\n",
       "       'x0_DM', 'x0_DO', 'x0_DZ', 'x0_EC', 'x0_EE', 'x0_EG', 'x0_ES',\n",
       "       'x0_ET', 'x0_FI', 'x0_FJ', 'x0_FM', 'x0_FO', 'x0_FR', 'x0_GA',\n",
       "       'x0_GB', 'x0_GE', 'x0_GH', 'x0_GL', 'x0_GM', 'x0_GN', 'x0_GP',\n",
       "       'x0_GQ', 'x0_GR', 'x0_GT', 'x0_GU', 'x0_GY', 'x0_HK', 'x0_HN',\n",
       "       'x0_HR', 'x0_HT', 'x0_HU', 'x0_ID', 'x0_IE', 'x0_IL', 'x0_IN',\n",
       "       'x0_IQ', 'x0_IR', 'x0_IS', 'x0_IT', 'x0_JM', 'x0_JO', 'x0_JP',\n",
       "       'x0_KE', 'x0_KG', 'x0_KH', 'x0_KP', 'x0_KR', 'x0_KW', 'x0_KZ',\n",
       "       'x0_LA', 'x0_LB', 'x0_LC', 'x0_LK', 'x0_LR', 'x0_LT', 'x0_LU',\n",
       "       'x0_LV', 'x0_LY', 'x0_MA', 'x0_MC', 'x0_MD', 'x0_ME', 'x0_MG',\n",
       "       'x0_MK', 'x0_ML', 'x0_MM', 'x0_MN', 'x0_MO', 'x0_MT', 'x0_MV',\n",
       "       'x0_MW', 'x0_MX', 'x0_MY', 'x0_MZ', 'x0_NC', 'x0_NE', 'x0_NG',\n",
       "       'x0_NI', 'x0_NL', 'x0_NO', 'x0_NP', 'x0_NZ', 'x0_PA', 'x0_PE',\n",
       "       'x0_PF', 'x0_PG', 'x0_PH', 'x0_PK', 'x0_PL', 'x0_PR', 'x0_PS',\n",
       "       'x0_PT', 'x0_PY', 'x0_QA', 'x0_RO', 'x0_RS', 'x0_RU', 'x0_RW',\n",
       "       'x0_SD', 'x0_SE', 'x0_SG', 'x0_SI', 'x0_SJ', 'x0_SK', 'x0_SN',\n",
       "       'x0_SO', 'x0_SR', 'x0_SS', 'x0_SV', 'x0_SY', 'x0_TH', 'x0_TJ',\n",
       "       'x0_TL', 'x0_TN', 'x0_TR', 'x0_TT', 'x0_TW', 'x0_TZ', 'x0_UA',\n",
       "       'x0_UG', 'x0_US', 'x0_UY', 'x0_VC', 'x0_VE', 'x0_VI', 'x0_VN',\n",
       "       'x0_VU', 'x0_XK', 'x0_YE', 'x0_ZA', 'x0_ZM', 'x0_ZW', 'x0_nan'],\n",
       "      dtype=object)"
      ]
     },
     "execution_count": 13,
     "metadata": {},
     "output_type": "execute_result"
    }
   ],
   "source": [
    "# we also one hot encode countries and see if that could have any correlaion with the campaign being funded or not\n",
    "enc.fit(np.asarray(df.country).reshape(-1, 1))\n",
    "encoded_country = enc.transform(np.asarray(df.country).reshape(-1,1))\n",
    "print(encoded_country.shape)\n",
    "enc.get_feature_names()"
   ]
  },
  {
   "cell_type": "markdown",
   "metadata": {},
   "source": [
    "# TODO"
   ]
  },
  {
   "cell_type": "code",
   "execution_count": 14,
   "metadata": {},
   "outputs": [],
   "source": [
    "# and we plot it against funded\n",
    "\n",
    "\n",
    "\n",
    "\n",
    "\n",
    "\n",
    "\n",
    "\n",
    "\n",
    "\n"
   ]
  },
  {
   "cell_type": "markdown",
   "metadata": {},
   "source": [
    "### Dealing with Null values"
   ]
  },
  {
   "cell_type": "code",
   "execution_count": 15,
   "metadata": {
    "colab": {
     "base_uri": "https://localhost:8080/"
    },
    "id": "LFFlxB-hCpSW",
    "outputId": "887e1209-2fde-4cb7-9b18-cbb05bb69279",
    "scrolled": false
   },
   "outputs": [
    {
     "data": {
      "text/plain": [
       "project_id                  0\n",
       "backers_count               0\n",
       "blurb                       2\n",
       "category                    0\n",
       "converted_pledged_amount    0\n",
       "country                     3\n",
       "created_at                  0\n",
       "currency                    0\n",
       "deadline                    0\n",
       "fx_rate                     0\n",
       "goal                        0\n",
       "launched_at                 0\n",
       "name                        1\n",
       "pledged                     0\n",
       "staff_pick                  0\n",
       "usd_pledged                 0\n",
       "location                    0\n",
       "funded                      0\n",
       "subcategory                 0\n",
       "project_url                 0\n",
       "reward_url                  0\n",
       "dtype: int64"
      ]
     },
     "execution_count": 15,
     "metadata": {},
     "output_type": "execute_result"
    }
   ],
   "source": [
    "#Null values\n",
    "df.isnull().sum()"
   ]
  },
  {
   "cell_type": "markdown",
   "metadata": {},
   "source": [
    "In total there are 2 blurbs, 3 countries, and 1 name missing. "
   ]
  },
  {
   "cell_type": "code",
   "execution_count": 16,
   "metadata": {
    "colab": {
     "base_uri": "https://localhost:8080/",
     "height": 513
    },
    "id": "C_Bg9lcYEsaV",
    "outputId": "ab45f5a8-2ece-462d-927f-1b45106c9228"
   },
   "outputs": [
    {
     "data": {
      "text/html": [
       "<div>\n",
       "<style scoped>\n",
       "    .dataframe tbody tr th:only-of-type {\n",
       "        vertical-align: middle;\n",
       "    }\n",
       "\n",
       "    .dataframe tbody tr th {\n",
       "        vertical-align: top;\n",
       "    }\n",
       "\n",
       "    .dataframe thead th {\n",
       "        text-align: right;\n",
       "    }\n",
       "</style>\n",
       "<table border=\"1\" class=\"dataframe\">\n",
       "  <thead>\n",
       "    <tr style=\"text-align: right;\">\n",
       "      <th></th>\n",
       "      <th>project_id</th>\n",
       "      <th>backers_count</th>\n",
       "      <th>blurb</th>\n",
       "      <th>category</th>\n",
       "      <th>converted_pledged_amount</th>\n",
       "      <th>country</th>\n",
       "      <th>created_at</th>\n",
       "      <th>currency</th>\n",
       "      <th>deadline</th>\n",
       "      <th>fx_rate</th>\n",
       "      <th>...</th>\n",
       "      <th>launched_at</th>\n",
       "      <th>name</th>\n",
       "      <th>pledged</th>\n",
       "      <th>staff_pick</th>\n",
       "      <th>usd_pledged</th>\n",
       "      <th>location</th>\n",
       "      <th>funded</th>\n",
       "      <th>subcategory</th>\n",
       "      <th>project_url</th>\n",
       "      <th>reward_url</th>\n",
       "    </tr>\n",
       "  </thead>\n",
       "  <tbody>\n",
       "    <tr>\n",
       "      <th>1857</th>\n",
       "      <td>KS_001857</td>\n",
       "      <td>10</td>\n",
       "      <td>A light artist interested the universal urge t...</td>\n",
       "      <td>art</td>\n",
       "      <td>1318</td>\n",
       "      <td>NaN</td>\n",
       "      <td>1492523493</td>\n",
       "      <td>USD</td>\n",
       "      <td>1499097394</td>\n",
       "      <td>1.000000</td>\n",
       "      <td>...</td>\n",
       "      <td>1495209394</td>\n",
       "      <td>Ancient Rock Art and the San Tribes of Namibia</td>\n",
       "      <td>1318.0</td>\n",
       "      <td>False</td>\n",
       "      <td>1318.000000</td>\n",
       "      <td>Windhoek, Namibia</td>\n",
       "      <td>False</td>\n",
       "      <td>conceptual art</td>\n",
       "      <td>https://www.kickstarter.com/projects/113391799...</td>\n",
       "      <td>https://www.kickstarter.com/projects/113391799...</td>\n",
       "    </tr>\n",
       "    <tr>\n",
       "      <th>5423</th>\n",
       "      <td>KS_005423</td>\n",
       "      <td>5</td>\n",
       "      <td>NaN</td>\n",
       "      <td>art</td>\n",
       "      <td>220</td>\n",
       "      <td>US</td>\n",
       "      <td>1320612894</td>\n",
       "      <td>USD</td>\n",
       "      <td>1323061140</td>\n",
       "      <td>1.000000</td>\n",
       "      <td>...</td>\n",
       "      <td>1320620155</td>\n",
       "      <td>NaN</td>\n",
       "      <td>220.0</td>\n",
       "      <td>False</td>\n",
       "      <td>220.000000</td>\n",
       "      <td>Milan, IN</td>\n",
       "      <td>False</td>\n",
       "      <td>painting</td>\n",
       "      <td>https://www.kickstarter.com/projects/175143760...</td>\n",
       "      <td>https://www.kickstarter.com/projects/175143760...</td>\n",
       "    </tr>\n",
       "    <tr>\n",
       "      <th>27780</th>\n",
       "      <td>KS_027780</td>\n",
       "      <td>39</td>\n",
       "      <td>NaN</td>\n",
       "      <td>fashion</td>\n",
       "      <td>8675</td>\n",
       "      <td>DE</td>\n",
       "      <td>1504364375</td>\n",
       "      <td>EUR</td>\n",
       "      <td>1507625188</td>\n",
       "      <td>1.245664</td>\n",
       "      <td>...</td>\n",
       "      <td>1505033188</td>\n",
       "      <td>Ready to wear</td>\n",
       "      <td>7372.0</td>\n",
       "      <td>False</td>\n",
       "      <td>8873.674115</td>\n",
       "      <td>Munich, Germany</td>\n",
       "      <td>False</td>\n",
       "      <td>ready-to-wear</td>\n",
       "      <td>https://www.kickstarter.com/projects/130359187...</td>\n",
       "      <td>https://www.kickstarter.com/projects/130359187...</td>\n",
       "    </tr>\n",
       "    <tr>\n",
       "      <th>46838</th>\n",
       "      <td>KS_046838</td>\n",
       "      <td>25</td>\n",
       "      <td>We're from the Kavango Region in Namibia.  We ...</td>\n",
       "      <td>food</td>\n",
       "      <td>1657</td>\n",
       "      <td>NaN</td>\n",
       "      <td>1445612769</td>\n",
       "      <td>USD</td>\n",
       "      <td>1449950496</td>\n",
       "      <td>1.000000</td>\n",
       "      <td>...</td>\n",
       "      <td>1447358496</td>\n",
       "      <td>Butcher Boys of Bagani</td>\n",
       "      <td>1657.0</td>\n",
       "      <td>False</td>\n",
       "      <td>1657.000000</td>\n",
       "      <td>Rundu, Namibia</td>\n",
       "      <td>True</td>\n",
       "      <td>food trucks</td>\n",
       "      <td>https://www.kickstarter.com/projects/823745415...</td>\n",
       "      <td>https://www.kickstarter.com/projects/823745415...</td>\n",
       "    </tr>\n",
       "    <tr>\n",
       "      <th>56883</th>\n",
       "      <td>KS_056883</td>\n",
       "      <td>68</td>\n",
       "      <td>I am heading on a 5 Gyres Voyage in JAN 2011 t...</td>\n",
       "      <td>journalism</td>\n",
       "      <td>3610</td>\n",
       "      <td>NaN</td>\n",
       "      <td>1286564530</td>\n",
       "      <td>USD</td>\n",
       "      <td>1291845600</td>\n",
       "      <td>1.000000</td>\n",
       "      <td>...</td>\n",
       "      <td>1288295782</td>\n",
       "      <td>ON A BOAT to raise awareness on PLASTIC POLLUT...</td>\n",
       "      <td>3610.0</td>\n",
       "      <td>False</td>\n",
       "      <td>3610.000000</td>\n",
       "      <td>Walvis Bay, Namibia</td>\n",
       "      <td>True</td>\n",
       "      <td>journalism</td>\n",
       "      <td>https://www.kickstarter.com/projects/163937299...</td>\n",
       "      <td>https://www.kickstarter.com/projects/163937299...</td>\n",
       "    </tr>\n",
       "  </tbody>\n",
       "</table>\n",
       "<p>5 rows × 21 columns</p>\n",
       "</div>"
      ],
      "text/plain": [
       "      project_id  backers_count  \\\n",
       "1857   KS_001857             10   \n",
       "5423   KS_005423              5   \n",
       "27780  KS_027780             39   \n",
       "46838  KS_046838             25   \n",
       "56883  KS_056883             68   \n",
       "\n",
       "                                                   blurb    category  \\\n",
       "1857   A light artist interested the universal urge t...         art   \n",
       "5423                                                 NaN         art   \n",
       "27780                                                NaN     fashion   \n",
       "46838  We're from the Kavango Region in Namibia.  We ...        food   \n",
       "56883  I am heading on a 5 Gyres Voyage in JAN 2011 t...  journalism   \n",
       "\n",
       "       converted_pledged_amount country  created_at currency    deadline  \\\n",
       "1857                       1318     NaN  1492523493      USD  1499097394   \n",
       "5423                        220      US  1320612894      USD  1323061140   \n",
       "27780                      8675      DE  1504364375      EUR  1507625188   \n",
       "46838                      1657     NaN  1445612769      USD  1449950496   \n",
       "56883                      3610     NaN  1286564530      USD  1291845600   \n",
       "\n",
       "        fx_rate  ...  launched_at  \\\n",
       "1857   1.000000  ...   1495209394   \n",
       "5423   1.000000  ...   1320620155   \n",
       "27780  1.245664  ...   1505033188   \n",
       "46838  1.000000  ...   1447358496   \n",
       "56883  1.000000  ...   1288295782   \n",
       "\n",
       "                                                    name pledged  staff_pick  \\\n",
       "1857      Ancient Rock Art and the San Tribes of Namibia  1318.0       False   \n",
       "5423                                                 NaN   220.0       False   \n",
       "27780                                      Ready to wear  7372.0       False   \n",
       "46838                             Butcher Boys of Bagani  1657.0       False   \n",
       "56883  ON A BOAT to raise awareness on PLASTIC POLLUT...  3610.0       False   \n",
       "\n",
       "       usd_pledged             location funded     subcategory  \\\n",
       "1857   1318.000000    Windhoek, Namibia  False  conceptual art   \n",
       "5423    220.000000            Milan, IN  False        painting   \n",
       "27780  8873.674115      Munich, Germany  False   ready-to-wear   \n",
       "46838  1657.000000       Rundu, Namibia   True     food trucks   \n",
       "56883  3610.000000  Walvis Bay, Namibia   True      journalism   \n",
       "\n",
       "                                             project_url  \\\n",
       "1857   https://www.kickstarter.com/projects/113391799...   \n",
       "5423   https://www.kickstarter.com/projects/175143760...   \n",
       "27780  https://www.kickstarter.com/projects/130359187...   \n",
       "46838  https://www.kickstarter.com/projects/823745415...   \n",
       "56883  https://www.kickstarter.com/projects/163937299...   \n",
       "\n",
       "                                              reward_url  \n",
       "1857   https://www.kickstarter.com/projects/113391799...  \n",
       "5423   https://www.kickstarter.com/projects/175143760...  \n",
       "27780  https://www.kickstarter.com/projects/130359187...  \n",
       "46838  https://www.kickstarter.com/projects/823745415...  \n",
       "56883  https://www.kickstarter.com/projects/163937299...  \n",
       "\n",
       "[5 rows x 21 columns]"
      ]
     },
     "execution_count": 16,
     "metadata": {},
     "output_type": "execute_result"
    }
   ],
   "source": [
    "#Rows with null values\n",
    "df[df.isnull().any(axis=1)]"
   ]
  },
  {
   "cell_type": "code",
   "execution_count": 17,
   "metadata": {
    "colab": {
     "base_uri": "https://localhost:8080/"
    },
    "id": "W6DCaGHeFkXe",
    "outputId": "4ce9558d-8335-4313-ba34-46ee21e26aea",
    "scrolled": true
   },
   "outputs": [
    {
     "data": {
      "text/plain": [
       "US    76716\n",
       "GB     8015\n",
       "CA     3511\n",
       "AU     1793\n",
       "DE      969\n",
       "      ...  \n",
       "AX        1\n",
       "GQ        1\n",
       "CW        1\n",
       "ME        1\n",
       "UY        1\n",
       "Name: country, Length: 174, dtype: int64"
      ]
     },
     "execution_count": 17,
     "metadata": {},
     "output_type": "execute_result"
    }
   ],
   "source": [
    "# Median of the country column \n",
    "df.country.value_counts()"
   ]
  },
  {
   "cell_type": "markdown",
   "metadata": {},
   "source": [
    "Since US is the most occuring in the data, we fill the three missing values in the country columns with US."
   ]
  },
  {
   "cell_type": "code",
   "execution_count": 18,
   "metadata": {
    "colab": {
     "base_uri": "https://localhost:8080/"
    },
    "id": "iSl_370DC7ul",
    "outputId": "c92092e2-ddf7-4578-9a15-9cab19dfa8ba"
   },
   "outputs": [
    {
     "data": {
      "text/plain": [
       "0"
      ]
     },
     "execution_count": 18,
     "metadata": {},
     "output_type": "execute_result"
    }
   ],
   "source": [
    "df.country = df.country.fillna(df.country.mode().iloc[0])\n",
    "df.country.isnull().sum()"
   ]
  },
  {
   "cell_type": "markdown",
   "metadata": {},
   "source": [
    "As for the 2 missing blurbs and 1 name, it happens to be that one row is missing both the blurb and the name, this will be dropped.\n",
    "\n",
    "The other row is only missing the blurb, however after checking the link provided it happens to be that the information provided in the website is curropted such that the information about that campaing are not available, hence this also will be dropped."
   ]
  },
  {
   "cell_type": "code",
   "execution_count": 19,
   "metadata": {
    "colab": {
     "base_uri": "https://localhost:8080/",
     "height": 165
    },
    "id": "HvPstiBfDCV1",
    "outputId": "ca9ae961-6d8b-4e27-a091-f57c03d8257c",
    "scrolled": true
   },
   "outputs": [
    {
     "data": {
      "text/html": [
       "<div>\n",
       "<style scoped>\n",
       "    .dataframe tbody tr th:only-of-type {\n",
       "        vertical-align: middle;\n",
       "    }\n",
       "\n",
       "    .dataframe tbody tr th {\n",
       "        vertical-align: top;\n",
       "    }\n",
       "\n",
       "    .dataframe thead th {\n",
       "        text-align: right;\n",
       "    }\n",
       "</style>\n",
       "<table border=\"1\" class=\"dataframe\">\n",
       "  <thead>\n",
       "    <tr style=\"text-align: right;\">\n",
       "      <th></th>\n",
       "      <th>project_id</th>\n",
       "      <th>backers_count</th>\n",
       "      <th>blurb</th>\n",
       "      <th>category</th>\n",
       "      <th>converted_pledged_amount</th>\n",
       "      <th>country</th>\n",
       "      <th>created_at</th>\n",
       "      <th>currency</th>\n",
       "      <th>deadline</th>\n",
       "      <th>fx_rate</th>\n",
       "      <th>...</th>\n",
       "      <th>launched_at</th>\n",
       "      <th>name</th>\n",
       "      <th>pledged</th>\n",
       "      <th>staff_pick</th>\n",
       "      <th>usd_pledged</th>\n",
       "      <th>location</th>\n",
       "      <th>funded</th>\n",
       "      <th>subcategory</th>\n",
       "      <th>project_url</th>\n",
       "      <th>reward_url</th>\n",
       "    </tr>\n",
       "  </thead>\n",
       "  <tbody>\n",
       "    <tr>\n",
       "      <th>5423</th>\n",
       "      <td>KS_005423</td>\n",
       "      <td>5</td>\n",
       "      <td>NaN</td>\n",
       "      <td>art</td>\n",
       "      <td>220</td>\n",
       "      <td>US</td>\n",
       "      <td>1320612894</td>\n",
       "      <td>USD</td>\n",
       "      <td>1323061140</td>\n",
       "      <td>1.000000</td>\n",
       "      <td>...</td>\n",
       "      <td>1320620155</td>\n",
       "      <td>NaN</td>\n",
       "      <td>220.0</td>\n",
       "      <td>False</td>\n",
       "      <td>220.000000</td>\n",
       "      <td>Milan, IN</td>\n",
       "      <td>False</td>\n",
       "      <td>painting</td>\n",
       "      <td>https://www.kickstarter.com/projects/175143760...</td>\n",
       "      <td>https://www.kickstarter.com/projects/175143760...</td>\n",
       "    </tr>\n",
       "    <tr>\n",
       "      <th>27780</th>\n",
       "      <td>KS_027780</td>\n",
       "      <td>39</td>\n",
       "      <td>NaN</td>\n",
       "      <td>fashion</td>\n",
       "      <td>8675</td>\n",
       "      <td>DE</td>\n",
       "      <td>1504364375</td>\n",
       "      <td>EUR</td>\n",
       "      <td>1507625188</td>\n",
       "      <td>1.245664</td>\n",
       "      <td>...</td>\n",
       "      <td>1505033188</td>\n",
       "      <td>Ready to wear</td>\n",
       "      <td>7372.0</td>\n",
       "      <td>False</td>\n",
       "      <td>8873.674115</td>\n",
       "      <td>Munich, Germany</td>\n",
       "      <td>False</td>\n",
       "      <td>ready-to-wear</td>\n",
       "      <td>https://www.kickstarter.com/projects/130359187...</td>\n",
       "      <td>https://www.kickstarter.com/projects/130359187...</td>\n",
       "    </tr>\n",
       "  </tbody>\n",
       "</table>\n",
       "<p>2 rows × 21 columns</p>\n",
       "</div>"
      ],
      "text/plain": [
       "      project_id  backers_count blurb category  converted_pledged_amount  \\\n",
       "5423   KS_005423              5   NaN      art                       220   \n",
       "27780  KS_027780             39   NaN  fashion                      8675   \n",
       "\n",
       "      country  created_at currency    deadline   fx_rate  ...  launched_at  \\\n",
       "5423       US  1320612894      USD  1323061140  1.000000  ...   1320620155   \n",
       "27780      DE  1504364375      EUR  1507625188  1.245664  ...   1505033188   \n",
       "\n",
       "                name pledged  staff_pick  usd_pledged         location funded  \\\n",
       "5423             NaN   220.0       False   220.000000        Milan, IN  False   \n",
       "27780  Ready to wear  7372.0       False  8873.674115  Munich, Germany  False   \n",
       "\n",
       "         subcategory                                        project_url  \\\n",
       "5423        painting  https://www.kickstarter.com/projects/175143760...   \n",
       "27780  ready-to-wear  https://www.kickstarter.com/projects/130359187...   \n",
       "\n",
       "                                              reward_url  \n",
       "5423   https://www.kickstarter.com/projects/175143760...  \n",
       "27780  https://www.kickstarter.com/projects/130359187...  \n",
       "\n",
       "[2 rows x 21 columns]"
      ]
     },
     "execution_count": 19,
     "metadata": {},
     "output_type": "execute_result"
    }
   ],
   "source": [
    "# the rows before \n",
    "df[df.isnull().any(axis=1)]"
   ]
  },
  {
   "cell_type": "code",
   "execution_count": 20,
   "metadata": {
    "scrolled": true
   },
   "outputs": [],
   "source": [
    "df = df.drop([5423,27780])"
   ]
  },
  {
   "cell_type": "code",
   "execution_count": 21,
   "metadata": {
    "scrolled": true
   },
   "outputs": [
    {
     "data": {
      "text/html": [
       "<div>\n",
       "<style scoped>\n",
       "    .dataframe tbody tr th:only-of-type {\n",
       "        vertical-align: middle;\n",
       "    }\n",
       "\n",
       "    .dataframe tbody tr th {\n",
       "        vertical-align: top;\n",
       "    }\n",
       "\n",
       "    .dataframe thead th {\n",
       "        text-align: right;\n",
       "    }\n",
       "</style>\n",
       "<table border=\"1\" class=\"dataframe\">\n",
       "  <thead>\n",
       "    <tr style=\"text-align: right;\">\n",
       "      <th></th>\n",
       "      <th>project_id</th>\n",
       "      <th>backers_count</th>\n",
       "      <th>blurb</th>\n",
       "      <th>category</th>\n",
       "      <th>converted_pledged_amount</th>\n",
       "      <th>country</th>\n",
       "      <th>created_at</th>\n",
       "      <th>currency</th>\n",
       "      <th>deadline</th>\n",
       "      <th>fx_rate</th>\n",
       "      <th>...</th>\n",
       "      <th>launched_at</th>\n",
       "      <th>name</th>\n",
       "      <th>pledged</th>\n",
       "      <th>staff_pick</th>\n",
       "      <th>usd_pledged</th>\n",
       "      <th>location</th>\n",
       "      <th>funded</th>\n",
       "      <th>subcategory</th>\n",
       "      <th>project_url</th>\n",
       "      <th>reward_url</th>\n",
       "    </tr>\n",
       "  </thead>\n",
       "  <tbody>\n",
       "  </tbody>\n",
       "</table>\n",
       "<p>0 rows × 21 columns</p>\n",
       "</div>"
      ],
      "text/plain": [
       "Empty DataFrame\n",
       "Columns: [project_id, backers_count, blurb, category, converted_pledged_amount, country, created_at, currency, deadline, fx_rate, goal, launched_at, name, pledged, staff_pick, usd_pledged, location, funded, subcategory, project_url, reward_url]\n",
       "Index: []\n",
       "\n",
       "[0 rows x 21 columns]"
      ]
     },
     "execution_count": 21,
     "metadata": {},
     "output_type": "execute_result"
    }
   ],
   "source": [
    "# the rows after are gone\n",
    "df[df.isnull().any(axis=1)]"
   ]
  },
  {
   "cell_type": "markdown",
   "metadata": {},
   "source": [
    "# Feature derivation:"
   ]
  },
  {
   "cell_type": "code",
   "execution_count": null,
   "metadata": {},
   "outputs": [],
   "source": []
  },
  {
   "cell_type": "code",
   "execution_count": null,
   "metadata": {},
   "outputs": [],
   "source": []
  },
  {
   "cell_type": "code",
   "execution_count": null,
   "metadata": {},
   "outputs": [],
   "source": []
  },
  {
   "cell_type": "code",
   "execution_count": null,
   "metadata": {},
   "outputs": [],
   "source": []
  },
  {
   "cell_type": "markdown",
   "metadata": {},
   "source": [
    "# Modelling:"
   ]
  },
  {
   "cell_type": "code",
   "execution_count": null,
   "metadata": {},
   "outputs": [],
   "source": []
  },
  {
   "cell_type": "code",
   "execution_count": null,
   "metadata": {},
   "outputs": [],
   "source": []
  },
  {
   "cell_type": "code",
   "execution_count": null,
   "metadata": {},
   "outputs": [],
   "source": []
  },
  {
   "cell_type": "code",
   "execution_count": null,
   "metadata": {},
   "outputs": [],
   "source": []
  },
  {
   "cell_type": "markdown",
   "metadata": {},
   "source": [
    "# Evaluation:"
   ]
  },
  {
   "cell_type": "code",
   "execution_count": null,
   "metadata": {},
   "outputs": [],
   "source": []
  },
  {
   "cell_type": "code",
   "execution_count": null,
   "metadata": {},
   "outputs": [],
   "source": []
  }
 ],
 "metadata": {
  "anaconda-cloud": {},
  "colab": {
   "collapsed_sections": [
    "63O08VyaudGI"
   ],
   "name": "Project.ipynb",
   "provenance": []
  },
  "kernelspec": {
   "display_name": "Python 3 (ipykernel)",
   "language": "python",
   "name": "python3"
  },
  "language_info": {
   "codemirror_mode": {
    "name": "ipython",
    "version": 3
   },
   "file_extension": ".py",
   "mimetype": "text/x-python",
   "name": "python",
   "nbconvert_exporter": "python",
   "pygments_lexer": "ipython3",
   "version": "3.8.3"
  }
 },
 "nbformat": 4,
 "nbformat_minor": 1
}
